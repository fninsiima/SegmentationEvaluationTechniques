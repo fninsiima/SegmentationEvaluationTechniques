{
 "cells": [
  {
   "cell_type": "markdown",
   "metadata": {},
   "source": [
    "#### My implemetation for GCE (Global Consistency Error)"
   ]
  },
  {
   "cell_type": "markdown",
   "metadata": {},
   "source": [
    "From Martin et al. 2001: A Database of Human Segmented Natural Images and its Application to \n",
    "                         Evaluating Segmentation Algorithms and Measuring Ecological Statistics\n",
    "\n",
    "\"\"\"\"\"\"We define a measure of error at each pixel that is tolerant to refinement as the basis of both measures. \n",
    "For a given pixel p^i (read as p subscript i) consider the segments in S(1) and S(2) that contain that pixel. \n",
    "The segments are sets of pixels.\"\"\"\"\"\"\n",
    "\n",
    "\n",
    "The main function to call is get_gce(f1,b1,f2,b2)\n",
    "\n",
    "Detected Foreground = f1\n",
    "Detected Background = b1\n",
    "Groundtruth Foreground = f2\n",
    "Groundtruth Background = b2\n",
    "\n",
    "where e.g. f1 is are the pixels in the detected foreground"
   ]
  },
  {
   "cell_type": "code",
   "execution_count": null,
   "metadata": {
    "collapsed": true
   },
   "outputs": [],
   "source": [
    "def error(f1,f2): #return e\n",
    "    \n",
    "    #method 1\n",
    "    #difference = [ a for a in f1 if not a in f2 ]\n",
    "    difference  = list(set(f1) - set(f2))\n",
    "    nom = len(difference)\n",
    "    return float(nom)/len(f1)\n",
    "\n",
    "\n",
    "# In[15]:\n",
    "\n",
    "#method 2\n",
    "#s = set(tuple(x) for x in f1).difference(tuple(x) for x in f2)\n",
    "#nom = len(set)\n",
    "\n",
    "\n",
    "# In[16]:\n",
    "\n",
    "def get_gce(f11,f12,f21,f22):\n",
    "    err1,err2 = [],[]\n",
    "    #for i in range h:\n",
    "        #for j in range w:\n",
    "            #if [i,j] in fo\n",
    "    #print 'stage 1'\n",
    "    e1 = error(f11,f21)\n",
    "    #print 'stage 2'\n",
    "    e2 = error(f11,f22)\n",
    "    #print 'stage 3'\n",
    "    e3=error(f12,f21)\n",
    "    #print 'stage 4'\n",
    "    e4=error(f12,f22)\n",
    "    #print 'stage 3'\n",
    "    e5=error(f21,f11)\n",
    "    #print 'stage 4'\n",
    "    e6=error(f21,f12)\n",
    "    #print 'stage 3'\n",
    "    e7=error(f22,f11)\n",
    "    #print 'stage 4'\n",
    "    e8=error(f22,f12)\n",
    "    #print '###'\n",
    "    difference  = list(set(f11).intersection(set(f21)))\n",
    "    err1.append(len(difference) * e1)\n",
    "    difference  = list(set(f11).intersection(set(f22)))\n",
    "    err1.append(len(difference) * e2)    \n",
    "    difference  = list(set(f12).intersection(set(f21)))\n",
    "    err1.append(len(difference) * e3)    \n",
    "    difference  = list(set(f12).intersection(set(f22)))\n",
    "    err1.append(len(difference) * e4)\n",
    "    lce1 = sum(err1)\n",
    "    #print '###'\n",
    "    difference  = list(set(f21).intersection(set(f11)))\n",
    "    err2.append(len(difference) * e5)\n",
    "    difference  = list(set(f21).intersection(set(f12)))\n",
    "    err2.append(len(difference) * e6)    \n",
    "    difference  = list(set(f22).intersection(set(f11)))\n",
    "    err2.append(len(difference) * e7)    \n",
    "    difference  = list(set(f22).intersection(set(f12)))\n",
    "    err2.append(len(difference) * e8)\n",
    "    lce2 = sum(err2)\n",
    "    \n",
    "    n1 = len(f11)+ len(f12)\n",
    "    n2 = len(f21)+len(f22)\n",
    "    if n1==n2:\n",
    "            #print 'n1=n2'\n",
    "            n=n1\n",
    "            gce = (1.0/n) * min(lce1,lce2)\n",
    "    #print gce\n",
    "    return gce"
   ]
  },
  {
   "cell_type": "markdown",
   "metadata": {},
   "source": [
    "#### Implementations for jaccard_index and rand_index"
   ]
  },
  {
   "cell_type": "code",
   "execution_count": null,
   "metadata": {
    "collapsed": true
   },
   "outputs": [],
   "source": [
    "def get_jacc_ind(a1,b1,a2,b2):\n",
    "    a = len(list(set(a1).intersection(set(a2)))) #+ \n",
    "    b=len(list(set(a1).union(set(a2))))\n",
    "    c=len(list(set(b1).intersection(set(b2))))\n",
    "    d =len(list(set(b1).union(set(b2))))\n",
    "\n",
    "            \n",
    "    jacc1 = a/float(b)\n",
    "    jacc2 = c/float(d)\n",
    "    \n",
    "    n1 = len(a1)+ len(b1)\n",
    "    n2 = len(a2)+len(b2)\n",
    "    if n1==n2:\n",
    "            #print 'n1=n2'\n",
    "            jacc_ind = np.mean([jacc1,jacc2])\n",
    "    \n",
    "    return jacc_ind\n",
    "    \n",
    "def get_rand_ind(a1,b1,a2,b2):\n",
    "    a =0\n",
    "    b=0\n",
    "    c=0\n",
    "    d =0\n",
    "    \n",
    "    n1 = len(a1)+ len(b1)\n",
    "    n2 = len(a2)+len(b2)\n",
    "    if n1==n2:\n",
    "            #print 'n1=n2'\n",
    "            n=n1\n",
    "            \n",
    "    num = a+b\n",
    "    denom = a+b+c+d     "
   ]
  }
 ],
 "metadata": {
  "kernelspec": {
   "display_name": "Python 2",
   "language": "python",
   "name": "python2"
  },
  "language_info": {
   "codemirror_mode": {
    "name": "ipython",
    "version": 2
   },
   "file_extension": ".py",
   "mimetype": "text/x-python",
   "name": "python",
   "nbconvert_exporter": "python",
   "pygments_lexer": "ipython2",
   "version": "2.7.14"
  }
 },
 "nbformat": 4,
 "nbformat_minor": 2
}
