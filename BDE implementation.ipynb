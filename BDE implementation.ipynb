{
 "cells": [
  {
   "cell_type": "markdown",
   "metadata": {},
   "source": [
    "### Method 1: Recommended"
   ]
  },
  {
   "cell_type": "code",
   "execution_count": null,
   "metadata": {
    "collapsed": true
   },
   "outputs": [],
   "source": []
  },
  {
   "cell_type": "markdown",
   "metadata": {},
   "source": [
    "### Method 2: Possibly Another Way\n"
   ]
  },
  {
   "cell_type": "code",
   "execution_count": null,
   "metadata": {
    "collapsed": true
   },
   "outputs": [],
   "source": [
    "def comp5(li1,li2):\n",
    "    li1 = li1.tolist()\n",
    "    li2 = li2.tolist()\n",
    "    dists2 = []\n",
    "    for pr1 in li1:\n",
    "        dists = []\n",
    "        for pr2 in li2:\n",
    "            #print pr1[0]\n",
    "            #print pr2[0]\n",
    "            dist1 = [(a - b)**2 for a, b in zip(pr1[0], pr2[0])]\n",
    "            #print dist1;\n",
    "            #dist1 = list(dist1[0])#, sum(list(dist1[0]))\n",
    "            dist = math.sqrt(sum(dist1))\n",
    "            #print dist\n",
    "\n",
    "            #if dist < min_dist:\n",
    "                #min_dist = dist\n",
    "            dists.append(dist)\n",
    "        print dists\n",
    "        dists2.append(min(dists))\n",
    "        #print len(li2), dists.index(min(dists))\n",
    "        val = li2[dists.index(min(dists))]\n",
    "        li2.remove(val)\n",
    "    print len(li2)\n",
    "    bde = np.mean(dists2)\n",
    "    #print dce, len(dists2), len(dists)\n",
    "    return bde\n",
    "\n",
    "def average2(bde1,bde2):\n",
    "    bde = np.mean([bde1,bde2])\n",
    "    return bde\n",
    "    \n",
    "def newbde(groundtruth,otsuseg):\n",
    "    bde1 = comp5(groundtruth,otsuseg)\n",
    "    bde2 = comp5(otsuseg,groundtruth)\n",
    "    return average2(bde1,bde2)"
   ]
  },
  {
   "cell_type": "code",
   "execution_count": null,
   "metadata": {
    "collapsed": true
   },
   "outputs": [],
   "source": []
  }
 ],
 "metadata": {
  "kernelspec": {
   "display_name": "Python 2",
   "language": "python",
   "name": "python2"
  },
  "language_info": {
   "codemirror_mode": {
    "name": "ipython",
    "version": 2
   },
   "file_extension": ".py",
   "mimetype": "text/x-python",
   "name": "python",
   "nbconvert_exporter": "python",
   "pygments_lexer": "ipython2",
   "version": "2.7.14"
  }
 },
 "nbformat": 4,
 "nbformat_minor": 2
}
